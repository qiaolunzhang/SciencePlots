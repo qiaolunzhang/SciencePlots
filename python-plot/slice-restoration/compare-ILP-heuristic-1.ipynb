{
 "cells": [
  {
   "cell_type": "code",
   "execution_count": 1,
   "metadata": {},
   "outputs": [],
   "source": [
    "import numpy as np\n",
    "import matplotlib as mpl\n",
    "#mpl.use('pdf')\n",
    "import matplotlib.pyplot as plt\n",
    "import numpy as np\n",
    "\n",
    "plt.rc('font', family='serif', serif='Times')\n",
    "plt.rc('text', usetex=True)\n",
    "plt.rc('xtick', labelsize=6)\n",
    "plt.rc('ytick', labelsize=6)\n",
    "plt.rc('axes', labelsize=6)\n",
    "#axes.linewidth : 0.5\n",
    "plt.rc('axes', linewidth=0.5)\n",
    "#ytick.major.width : 0.5\n",
    "plt.rc('ytick.major', width=0.5)\n",
    "plt.rcParams['xtick.direction'] = 'in'\n",
    "plt.rcParams['ytick.direction'] = 'in'\n",
    "plt.rc('ytick.minor', visible=True)\n",
    "\n",
    "#plt.style.use(r\"..\\..\\styles\\infocom.mplstyle\") # Insert your save location here\n",
    "\n",
    "# width as measured in inkscape\n",
    "fig_width = 3.487\n",
    "#height = width / 1.618 / 2\n",
    "fig_height = fig_width / 1.3 / 2"
   ]
  },
  {
   "cell_type": "code",
   "execution_count": 2,
   "metadata": {},
   "outputs": [
    {
     "data": {
      "text/plain": [
       "'3.2.2'"
      ]
     },
     "execution_count": 2,
     "metadata": {},
     "output_type": "execute_result"
    }
   ],
   "source": [
    "import matplotlib\n",
    "matplotlib.__version__"
   ]
  },
  {
   "cell_type": "code",
   "execution_count": 3,
   "metadata": {},
   "outputs": [],
   "source": [
    "#x = [0, 'NC-ILP', 'NC-H', 'CC-ILP', 'CC-H']\n",
    "#x2 = [0, 'NC-ILP', 'CC-ILP', 'CC-H' , 'NC-H']\n",
    "x = [0, 'NC-ILP', 'NC-P', 'CC-ILP', 'CC-P']\n",
    "x2 = [0, 'NC-ILP', 'CC-ILP', 'CC-P' , 'NC-P']\n",
    "\n",
    "#objective = [[455, 521, 566, 566, 630], # CC-ILP\n",
    "#             [436, 491, 562, 562, 623],# proposed\n",
    "#             [346, 465, 502, 502, 530]] # NC\n",
    "objective = [[346, 346, 455, 436],\n",
    "             [465, 441, 521, 491],\n",
    "             [502, 502, 566, 562],\n",
    "             [502, 502, 566, 562],\n",
    "             [530, 530, 630, 623]]\n",
    "\n",
    "time_means = [[0.36, 0.33, 0.17, 0.46875],\n",
    "              [5.28, 40.84, 1.81, 6.25],\n",
    "              [2613.23, 45313.95, 8.17, 13],\n",
    "              [2628.48, 181778.9, 18.8, 34.23],\n",
    "              [43.23, 33.4, 7.00, 34.23]];\n",
    "\n",
    "error = [[0, 0, 0],\n",
    "         [0, 0, 0],\n",
    "         [0.0494, 0, 0.0564],\n",
    "         [24, 0, 20],\n",
    "         [0, 0, 0]]\n",
    "#error = [[0, 0, 0.0494, 24, 0],\n",
    "#         [0, 0, 0, 0, 0],\n",
    "#         [0, 0, 0.0564, 20, 0]]"
   ]
  },
  {
   "cell_type": "code",
   "execution_count": 4,
   "metadata": {},
   "outputs": [],
   "source": [
    "#x = [0, 'NC-ILP', 'NC-H', 'CC-ILP', 'CC-H']\n",
    "x = [0, 'NC-ILP', 'NC-P', 'CC-ILP', 'CC-P']\n",
    "\n",
    "#x2 = [0, 'NC-ILP', 'CC-ILP', 'CC-H' , 'NC-H']\n",
    "\n",
    "#objective = [[455, 521, 566, 566, 630], # CC-ILP\n",
    "#             [436, 491, 562, 562, 623],# proposed\n",
    "#             [346, 465, 502, 502, 530]] # NC\n",
    "objective = [[346, 346, 455, 436],\n",
    "             [465, 441, 521, 491],\n",
    "             [502, 502, 566, 562],\n",
    "             [502, 502, 566, 562],\n",
    "             [530, 530, 630, 623]]\n",
    "\n",
    "time_means = [[0.37, 0.16, 0.17, 0.17],\n",
    "              [5.46, 2.73, 9.31, 2.98],\n",
    "              [2644.17, 7.42, 6796.80, 8.33],\n",
    "              [2659.87, 18.4, 6798.10, 19.13],\n",
    "              [44.56, 7.64, 23.48, 7.34]];\n",
    "\n",
    "error = [[0, 0, 0],\n",
    "         [0, 0, 0],\n",
    "         [0.0494, 0, 0.0564],\n",
    "         [24, 0, 20],\n",
    "         [0, 0, 0]]\n",
    "#error = [[0, 0, 0.0494, 24, 0],\n",
    "#         [0, 0, 0, 0, 0],\n",
    "#         [0, 0, 0.0564, 20, 0]]"
   ]
  },
  {
   "cell_type": "code",
   "execution_count": 5,
   "metadata": {},
   "outputs": [
    {
     "name": "stdout",
     "output_type": "stream",
     "text": [
      "-1.176470588235294\n",
      "0.4135338345864662\n",
      "0.6109683968926554\n",
      "0.6087333225460055\n",
      "-0.8977853492333902\n"
     ]
    }
   ],
   "source": [
    "for i in range(0, 5):\n",
    "    print((time_means[i][2] - time_means[i][0]) / time_means[i][2])"
   ]
  },
  {
   "cell_type": "code",
   "execution_count": 6,
   "metadata": {},
   "outputs": [
    {
     "name": "stdout",
     "output_type": "stream",
     "text": [
      "[346, 346, 455, 436]\n"
     ]
    }
   ],
   "source": [
    "print(objective[0])"
   ]
  },
  {
   "cell_type": "code",
   "execution_count": 7,
   "metadata": {},
   "outputs": [
    {
     "name": "stdout",
     "output_type": "stream",
     "text": [
      "0.23956043956043957\n",
      "0.10748560460652591\n",
      "0.11307420494699646\n",
      "0.11307420494699646\n",
      "0.15873015873015872\n"
     ]
    }
   ],
   "source": [
    "for i in range(0, 5):\n",
    "    print((objective[i][2] - objective[i][0]) / objective[i][2])"
   ]
  },
  {
   "cell_type": "code",
   "execution_count": 10,
   "metadata": {},
   "outputs": [
    {
     "data": {
      "image/png": "[encoded data removed]",
      "text/plain": [
       "<Figure size 251.064x96.5631 with 2 Axes>"
      ]
     },
     "metadata": {
      "needs_background": "light"
     },
     "output_type": "display_data"
    }
   ],
   "source": [
    "import numpy as np\n",
    "N = 4\n",
    "ind = np.arange(N) \n",
    "width = 1 / 6\n",
    "\n",
    "fig, (ax1, ax2) = plt.subplots(1, 2)\n",
    "#ax1.bar(x, objective)\n",
    "#ax1.bar(x, objective[0])\n",
    "#label_list = ['No-rec', 'Link-rec', 'Lim-rec(3, 0)', 'Lim-rec(3, 1)', 'Any-rec']\n",
    "label_list = ['Fix-em', 'Link-rem', 'Any-rem(3, 0)', 'Any-rem(3, 1)', 'Any-rem']\n",
    "patterns = ('//////','\\\\\\\\\\\\','---',  'ooo', 'xxx', '\\\\', '\\\\\\\\','++', '*', 'O', '.')\n",
    "\n",
    "plt.rcParams['hatch.linewidth'] = 0.25  # previous pdf hatch linewidth\n",
    "#plt.rcParams['hatch.linewidth'] = 1.0  # previous svg hatch linewidth\n",
    "#plt.rcParams['hatch.color'] = 'r'\n",
    "\n",
    "for i in range(5):\n",
    "    ax1.bar(ind + width * (i-2), objective[i], width, label=label_list[i],\n",
    "            #alpha=0.7)\n",
    "           hatch=patterns[i], alpha=0.7)\n",
    "           #yerr=error[i], ecolor='black', capsize=1)\n",
    "ax1.grid(lw = 0.25)\n",
    "ax2.grid(lw = 0.25)\n",
    "\n",
    "ax1.set_xticklabels(x)\n",
    "#ax1.set_ylabel('Objective value')\n",
    "ax1.set_ylabel('AWRSL')\n",
    "ax1.set_xlabel('Recovery scenarios')\n",
    "ax1.xaxis.set_label_coords(0.5,-0.17)\n",
    "ax1.yaxis.set_label_coords(-0.17,0.5)\n",
    "\n",
    "#ax1.legend(loc='upper center', bbox_to_anchor=(0.5, 1.05),\n",
    "#          ncol=3, fancybox=True, shadow=True, fontsize='small')\n",
    "\n",
    "for i in range(5):\n",
    "    tmp_time = np.asarray(time_means[i])\n",
    "    ax2.bar(ind + width * (i-2), time_means[i], width, label=label_list[i],\n",
    "           hatch=patterns[i], alpha=0.7)\n",
    "\n",
    "ax2.set_yscale('log')\n",
    "ax2.set_xticklabels(x)\n",
    "ax2.set_ylabel('Execution time (s)')\n",
    "ax2.set_xlabel('Recovery scenarios')\n",
    "ax2.xaxis.set_label_coords(0.5,-0.17)\n",
    "ax2.yaxis.set_label_coords(-0.17,0.5)\n",
    "\n",
    "ax1.legend(loc='upper center', bbox_to_anchor=(1.13, 1.25),\n",
    "          ncol=5, prop={'size': 5}, handletextpad=0.2)\n",
    "\n",
    "fig.set_size_inches(fig_width, fig_height)\n",
    "mpl.pyplot.subplots_adjust(wspace = 0.3)\n",
    "\n",
    "ax1.set_title('(a)', y=-0.45, fontsize=7)\n",
    "ax2.set_title('(b)', y=-0.45, fontsize=7)\n",
    "\n",
    "#fig.subplots_adjust(left=.10, bottom=.20, right=.97, top=.84)\n",
    "fig.subplots_adjust(left=.10, bottom=.235, right=.97, top=.85)\n",
    "#ax1.grid(color='b', ls = '-.', lw = 0.25)\n",
    "\n",
    "plt.show()\n",
    "fig.savefig('compare-ILP-heuristic1.pdf')"
   ]
  },
  {
   "cell_type": "code",
   "execution_count": 9,
   "metadata": {},
   "outputs": [
    {
     "data": {
      "image/png": "[encoded data removed]",
      "text/plain": [
       "<Figure size 251.064x96.5631 with 2 Axes>"
      ]
     },
     "metadata": {
      "needs_background": "light"
     },
     "output_type": "display_data"
    }
   ],
   "source": [
    "import numpy as np\n",
    "N = 4\n",
    "ind = np.arange(N) \n",
    "width = 1 / 6\n",
    "\n",
    "fig, (ax1, ax2) = plt.subplots(1, 2)\n",
    "#ax1.bar(x, objective)\n",
    "#ax1.bar(x, objective[0])\n",
    "label_list = ['No-rec', 'Link-rec', 'Lim-rec(3, 0)', 'Lim-rec(3, 1)', 'Any-rec']\n",
    "patterns = ('//////','\\\\\\\\\\\\','---',  'ooo', 'xxx', '\\\\', '\\\\\\\\','++', '*', 'O', '.')\n",
    "\n",
    "plt.rcParams['hatch.linewidth'] = 0.25  # previous pdf hatch linewidth\n",
    "#plt.rcParams['hatch.linewidth'] = 1.0  # previous svg hatch linewidth\n",
    "#plt.rcParams['hatch.color'] = 'r'\n",
    "\n",
    "for i in range(5):\n",
    "    ax1.bar(ind + width * (i-2), objective[i], width, label=label_list[i],\n",
    "            #alpha=0.7)\n",
    "           hatch=patterns[i], alpha=0.7)\n",
    "           #yerr=error[i], ecolor='black', capsize=1)\n",
    "ax1.grid(lw = 0.25)\n",
    "ax2.grid(lw = 0.25)\n",
    "\n",
    "ax1.set_xticklabels(x)\n",
    "ax1.set_ylabel('Objective value')\n",
    "ax1.set_xlabel('Recovery Scenarios')\n",
    "ax1.xaxis.set_label_coords(0.5,-0.17)\n",
    "ax1.yaxis.set_label_coords(-0.17,0.5)\n",
    "\n",
    "#ax1.legend(loc='upper center', bbox_to_anchor=(0.5, 1.05),\n",
    "#          ncol=3, fancybox=True, shadow=True, fontsize='small')\n",
    "\n",
    "for i in range(5):\n",
    "    tmp_time = np.asarray(time_means[i])\n",
    "    #tmp_time = \n",
    "    ax2.bar(ind + width * (i-2), time_means[i], width, label=label_list[i],\n",
    "           hatch=patterns[i], alpha=0.7)\n",
    "\n",
    "#ax2.set_yscale('log')\n",
    "ax2.set_xticklabels(x)\n",
    "ax2.set_ylabel('Execution time (s)')\n",
    "ax2.set_xlabel('Recovery Scenarios')\n",
    "ax2.xaxis.set_label_coords(0.5,-0.17)\n",
    "ax2.yaxis.set_label_coords(-0.17,0.5)\n",
    "\n",
    "ax1.legend(loc='upper center', bbox_to_anchor=(1.16, 1.2),\n",
    "          ncol=5, prop={'size': 5})\n",
    "\n",
    "fig.set_size_inches(fig_width, fig_height)\n",
    "mpl.pyplot.subplots_adjust(wspace = 0.3)\n",
    "\n",
    "fig.subplots_adjust(left=.10, bottom=.20, right=.97, top=.85)\n",
    "#ax1.grid(color='b', ls = '-.', lw = 0.25)\n",
    "\n",
    "\n",
    "\n",
    "plt.show()\n",
    "fig.savefig('compare-ILP-heuristic-linear.pdf')"
   ]
  }
 ],
 "metadata": {
  "kernelspec": {
   "display_name": "Python 3",
   "language": "python",
   "name": "python3"
  },
  "language_info": {
   "codemirror_mode": {
    "name": "ipython",
    "version": 3
   },
   "file_extension": ".py",
   "mimetype": "text/x-python",
   "name": "python",
   "nbconvert_exporter": "python",
   "pygments_lexer": "ipython3",
   "version": "3.7.6"
  }
 },
 "nbformat": 4,
 "nbformat_minor": 4
}
