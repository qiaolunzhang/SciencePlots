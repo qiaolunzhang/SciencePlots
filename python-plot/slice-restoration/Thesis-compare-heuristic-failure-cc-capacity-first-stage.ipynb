{
 "cells": [
  {
   "cell_type": "code",
   "execution_count": 1,
   "metadata": {},
   "outputs": [],
   "source": [
    "import numpy as np\n",
    "import matplotlib as mpl\n",
    "#mpl.use('pdf')\n",
    "import matplotlib.pyplot as plt\n",
    "import numpy as np\n",
    "\n",
    "plt.rc('font', family='serif', serif='Times')\n",
    "plt.rc('text', usetex=True)\n",
    "plt.rc('xtick', labelsize=6)\n",
    "plt.rc('ytick', labelsize=6)\n",
    "plt.rc('axes', labelsize=6)\n",
    "#axes.linewidth : 0.5\n",
    "plt.rc('axes', linewidth=0.5)\n",
    "#ytick.major.width : 0.5\n",
    "plt.rc('ytick.major', width=0.5)\n",
    "plt.rcParams['xtick.direction'] = 'in'\n",
    "plt.rcParams['ytick.direction'] = 'in'\n",
    "plt.rc('ytick.minor', visible=True)\n",
    "\n",
    "#plt.style.use(r\"..\\..\\styles\\infocom.mplstyle\") # Insert your save location here\n",
    "\n",
    "# width as measured in inkscape\n",
    "fig_width = 3.487\n",
    "#height = width / 1.618 / 2\n",
    "fig_height = fig_width / 1.3 / 2"
   ]
  },
  {
   "cell_type": "code",
   "execution_count": 2,
   "metadata": {},
   "outputs": [
    {
     "name": "stdout",
     "output_type": "stream",
     "text": [
      "['failure20stages-new-rounding-capacity/SF_new_results/', 'failure20stages-new-rounding-capacity/capacity_results/', 'failure20stages-new-rounding-capacity/BF_new_results/']\n",
      "['failure20stages-new-rounding-capacity/SF_new_results_NC/', 'failure20stages-new-rounding-capacity/capacity_resultsNC/', 'failure20stages-new-rounding-capacity/BF_new_results_NC/']\n"
     ]
    }
   ],
   "source": [
    "cc_folder_list = [\"SF_new_results/\", \"capacity_results/\", \"BF_new_results/\"]\n",
    "nc_folder_list = [\"SF_new_results_NC/\", \"capacity_resultsNC/\", \"BF_new_results_NC/\"]\n",
    "cc_folder_list = [\"failure20stages-new-rounding-capacity/\" + e  for e in cc_folder_list]\n",
    "nc_folder_list = [\"failure20stages-new-rounding-capacity/\" + e for e in nc_folder_list]\n",
    "file_list = [\"no-reconfig120.csv\", \"Link-reconfig120.csv\", \"LimitedReconfig120.csv\", \"Any-reconfig120.csv\"]\n",
    "print(cc_folder_list)\n",
    "print(nc_folder_list)"
   ]
  },
  {
   "cell_type": "code",
   "execution_count": 3,
   "metadata": {},
   "outputs": [
    {
     "name": "stdout",
     "output_type": "stream",
     "text": [
      "3 27\n",
      "3 27\n",
      "3 27\n",
      "[[3640 2507 1378]\n",
      " [4424 3618 2454]\n",
      " [5122 4723 3754]\n",
      " [5145 4804 3835]\n",
      " [5966 5995 4507]]\n"
     ]
    }
   ],
   "source": [
    "cc_objective_data = np.full((5, 3), 0)\n",
    "max_stage = 20\n",
    "selected_stage = 10\n",
    "for i in range(3):\n",
    "    for j in range(4):\n",
    "        with open(cc_folder_list[i]+file_list[j], \"r\") as f:\n",
    "            if j != 2:\n",
    "                f1 = f.readlines()\n",
    "                start_line = 0\n",
    "                for line in f1:\n",
    "                    if line.find(\"%Stage\") >= 0:\n",
    "                        break\n",
    "                    else:\n",
    "                        start_line = start_line + 1\n",
    "                #print(start_line)\n",
    "                #print(len(f1))\n",
    "                line = f1[selected_stage+start_line]\n",
    "                line = line.split(\",\")\n",
    "                if j == 0:\n",
    "                    cc_objective_data[0, i] = float(line[2])\n",
    "                if j == 1:\n",
    "                    cc_objective_data[1, i] = float(line[2])\n",
    "                if j == 3:\n",
    "                    cc_objective_data[4, i] = float(line[2])\n",
    "            else:\n",
    "                f1 = f.readlines()\n",
    "                start_line = 0\n",
    "                start_line1 = 0\n",
    "                for line in f1:\n",
    "                    if line.find(\"%Stage\") >= 0:\n",
    "                        break\n",
    "                    else:\n",
    "                        start_line = start_line + 1\n",
    "                for index in range(start_line+max_stage+1, len(f1)):\n",
    "                    if f1[index].find(\"%Stage\") >= 0:\n",
    "                        start_line1 = index\n",
    "                        break\n",
    "                    else:\n",
    "                        start_line1 = start_line1 + 1\n",
    "\n",
    "                line = f1[selected_stage+start_line]\n",
    "                line = line.split(\",\")\n",
    "                cc_objective_data[2, i] = float(line[2])\n",
    "                #mesh3data[2, index] = int(line[1])\n",
    "\n",
    "                line = f1[selected_stage+start_line1]\n",
    "                line = line.split(\",\")\n",
    "                cc_objective_data[3, i] = float(line[2])\n",
    "                print(start_line, start_line1)\n",
    "print(cc_objective_data)"
   ]
  },
  {
   "cell_type": "code",
   "execution_count": 4,
   "metadata": {},
   "outputs": [
    {
     "name": "stdout",
     "output_type": "stream",
     "text": [
      "0.2584646329198793\n",
      "0.39649708090075064\n",
      "0.455513645440426\n",
      "[0.34855335 0.65699281 0.83659332]\n"
     ]
    }
   ],
   "source": [
    "for i in range(3):\n",
    "    print((cc_objective_data[4][i]-cc_objective_data[1][i])/cc_objective_data[4][i])\n",
    "#nc_objective_data[]\n",
    "print((cc_objective_data[4]-cc_objective_data[1])/cc_objective_data[1])"
   ]
  },
  {
   "cell_type": "code",
   "execution_count": 5,
   "metadata": {},
   "outputs": [
    {
     "data": {
      "text/plain": [
       "0.14035087719298245"
      ]
     },
     "execution_count": 5,
     "metadata": {},
     "output_type": "execute_result"
    }
   ],
   "source": [
    "(5850 - 5130) / 5130"
   ]
  },
  {
   "cell_type": "code",
   "execution_count": 6,
   "metadata": {},
   "outputs": [
    {
     "name": "stdout",
     "output_type": "stream",
     "text": [
      "[[ 61  34   7]\n",
      " [142 116  15]\n",
      " [277 242  64]\n",
      " [281 256  68]\n",
      " [701 735 120]]\n"
     ]
    }
   ],
   "source": [
    "nc_initial_data = np.full((5, 3), 0)\n",
    "max_stage = 20\n",
    "selected_stage = 0\n",
    "for i in range(3):\n",
    "    for j in range(4):\n",
    "        with open(cc_folder_list[i]+file_list[j], \"r\") as f:\n",
    "            if j != 2:\n",
    "                f1 = f.readlines()\n",
    "                start_line = 0\n",
    "                for line in f1:\n",
    "                    if line.find(\"%Stage\") >= 0:\n",
    "                        break\n",
    "                    else:\n",
    "                        start_line = start_line + 1\n",
    "                #print(start_line)\n",
    "                #print(len(f1))\n",
    "                line = f1[selected_stage+start_line]\n",
    "                line = line.split(\",\")\n",
    "                if j == 0:\n",
    "                    nc_initial_data[0, i] = float(line[2])\n",
    "                if j == 1:\n",
    "                    nc_initial_data[1, i] = float(line[2])\n",
    "                if j == 3:\n",
    "                    nc_initial_data[4, i] = float(line[2])\n",
    "            else:\n",
    "                f1 = f.readlines()\n",
    "                start_line = 0\n",
    "                start_line1 = 0\n",
    "                for line in f1:\n",
    "                    if line.find(\"%Stage\") >= 0:\n",
    "                        break\n",
    "                    else:\n",
    "                        start_line = start_line + 1\n",
    "                for index in range(start_line+max_stage+1, len(f1)):\n",
    "                    if f1[index].find(\"%Stage\") >= 0:\n",
    "                        start_line1 = index\n",
    "                        break\n",
    "                    else:\n",
    "                        start_line1 = start_line1 + 1\n",
    "\n",
    "                line = f1[selected_stage+start_line]\n",
    "                line = line.split(\",\")\n",
    "                nc_initial_data[2, i] = float(line[2])\n",
    "                #mesh3data[2, index] = int(line[1])\n",
    "\n",
    "                line = f1[selected_stage+start_line1]\n",
    "                line = line.split(\",\")\n",
    "                nc_initial_data[3, i] = float(line[2])\n",
    "print(nc_initial_data)"
   ]
  },
  {
   "cell_type": "code",
   "execution_count": 8,
   "metadata": {},
   "outputs": [
    {
     "name": "stderr",
     "output_type": "stream",
     "text": [
      "D:\\my_application\\Miniconda\\envs\\py37\\lib\\site-packages\\ipykernel_launcher.py:29: UserWarning: FixedFormatter should only be used together with FixedLocator\n",
      "D:\\my_application\\Miniconda\\envs\\py37\\lib\\site-packages\\ipykernel_launcher.py:45: UserWarning: FixedFormatter should only be used together with FixedLocator\n"
     ]
    },
    {
     "data": {
      "image/png": "[encoded data removed]",
      "text/plain": [
       "<Figure size 251.064x96.5631 with 2 Axes>"
      ]
     },
     "metadata": {
      "needs_background": "light"
     },
     "output_type": "display_data"
    }
   ],
   "source": [
    "import numpy as np\n",
    "N = 3\n",
    "ind = np.arange(N) \n",
    "width = 1 / 6\n",
    "\n",
    "x = [0, '20', '30', '40']\n",
    "x_tick_label_list = ['20', '30', '40']\n",
    "\n",
    "fig, (ax1, ax2) = plt.subplots(1, 2)\n",
    "ax1.grid(lw = 0.25)\n",
    "ax2.grid(lw = 0.25)\n",
    "#ax1.bar(x, objective)\n",
    "#ax1.bar(x, objective[0])\n",
    "#label_list = ['No-rec', 'Link-rec', 'Lim-rec(5, 0)', 'Lim-rec(5, 2)', 'Any-rec']\n",
    "label_list = ['Fix-em', 'Link-rem', 'Any-rem(5, 0)', 'Any-rem(5, 2)', 'Any-rem']\n",
    "patterns = ('//////','\\\\\\\\\\\\','---',  'ooo', 'xxx', '\\\\', '\\\\\\\\','++', '*', 'O', '.')\n",
    "\n",
    "plt.rcParams['hatch.linewidth'] = 0.25  # previous pdf hatch linewidth\n",
    "#plt.rcParams['hatch.linewidth'] = 1.0  # previous svg hatch linewidth\n",
    "#plt.rcParams['hatch.color'] = 'r'\n",
    "\n",
    "for i in range(5):\n",
    "    ax1.bar(ind + width * (i-2), cc_objective_data[i], width, label=label_list[i],\n",
    "            #alpha=0.7)\n",
    "           hatch=patterns[i], alpha=0.7)\n",
    "           #yerr=error[i], ecolor='black', capsize=1)\n",
    "\n",
    "\n",
    "ax1.set_xticklabels(x)\n",
    "ax1.set_ylabel('AWRSL')\n",
    "ax1.set_xlabel('Percentage of substrate failures (\\%)')\n",
    "#ax1.set_ylabel('Objective value')\n",
    "#ax1.set_xlabel('Recovery Scenarios')\n",
    "ax1.xaxis.set_label_coords(0.5,-0.17)\n",
    "ax1.yaxis.set_label_coords(-0.17,0.5)\n",
    "\n",
    "#ax1.legend(loc='upper center', bbox_to_anchor=(0.5, 1.05),\n",
    "#          ncol=3, fancybox=True, shadow=True, fontsize='small')\n",
    "\n",
    "for i in range(5):\n",
    "    ax2.bar(ind + width * (i-2), nc_initial_data[i], width, label=label_list[i],\n",
    "            #alpha=0.7)\n",
    "           hatch=patterns[i], alpha=0.7)\n",
    "\n",
    "ax2.set_xticklabels(x)\n",
    "ax2.set_ylabel('AWRSL at stage 0')\n",
    "ax2.set_xlabel('Percentage of substrate failures (\\%)')\n",
    "ax2.xaxis.set_label_coords(0.5,-0.17)\n",
    "ax2.yaxis.set_label_coords(-0.17,0.5)\n",
    "\n",
    "ax1.legend(loc='upper center', bbox_to_anchor=(1.16, 1.26),\n",
    "          ncol=5, prop={'size': 5}, handletextpad=0.2)\n",
    "\n",
    "fig.set_size_inches(fig_width, fig_height)\n",
    "mpl.pyplot.subplots_adjust(wspace = 0.3)\n",
    "\n",
    "#ax1.grid(color='b', ls = '-.', lw = 0.25)\n",
    "\n",
    "ax1.set_title('(a)', y=-0.45, fontsize=7)\n",
    "ax2.set_title('(b)', y=-0.45, fontsize=7)\n",
    "\n",
    "fig.subplots_adjust(left=.10, bottom=.235, right=.97, top=.85)\n",
    "\n",
    "plt.show()\n",
    "fig.savefig('test-heuristic-failure-cc-initial.pdf')"
   ]
  }
 ],
 "metadata": {
  "kernelspec": {
   "display_name": "Python 3",
   "language": "python",
   "name": "python3"
  },
  "language_info": {
   "codemirror_mode": {
    "name": "ipython",
    "version": 3
   },
   "file_extension": ".py",
   "mimetype": "text/x-python",
   "name": "python",
   "nbconvert_exporter": "python",
   "pygments_lexer": "ipython3",
   "version": "3.7.8"
  }
 },
 "nbformat": 4,
 "nbformat_minor": 4
}
