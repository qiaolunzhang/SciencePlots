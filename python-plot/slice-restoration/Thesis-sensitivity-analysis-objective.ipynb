{
 "cells": [
  {
   "cell_type": "code",
   "execution_count": 16,
   "metadata": {},
   "outputs": [],
   "source": [
    "import numpy as np\n",
    "import matplotlib as mpl\n",
    "#mpl.use('pdf')\n",
    "import matplotlib.pyplot as plt\n",
    "import numpy as np\n",
    "from matplotlib.ticker import MaxNLocator\n",
    "\n",
    "\n",
    "plt.rc('font', family='serif', serif='Times')\n",
    "plt.rc('text', usetex=True)\n",
    "plt.rc('xtick', labelsize=6)\n",
    "plt.rc('ytick', labelsize=6)\n",
    "plt.rc('axes', labelsize=6)\n",
    "#axes.linewidth : 0.5\n",
    "plt.rc('axes', linewidth=0.5)\n",
    "#ytick.major.width : 0.5\n",
    "plt.rc('ytick.major', width=0.5)\n",
    "plt.rcParams['xtick.direction'] = 'in'\n",
    "plt.rcParams['ytick.direction'] = 'in'\n",
    "plt.rc('ytick.minor', visible=True)\n",
    "\n",
    "#plt.style.use(r\"..\\..\\styles\\infocom.mplstyle\") # Insert your save location here\n",
    "\n",
    "# width as measured in inkscape\n",
    "fig_width = 3.487\n",
    "#height = width / 1.618 / 2\n",
    "fig_height = fig_width / 1.3 / 2"
   ]
  },
  {
   "cell_type": "code",
   "execution_count": 2,
   "metadata": {},
   "outputs": [
    {
     "name": "stdout",
     "output_type": "stream",
     "text": [
      "['ThesisPlotSensitivity/MF_nc/']\n"
     ]
    }
   ],
   "source": [
    "#cc_folder_list = [\"SF_new_results/\", \"capacity_results/\", \"BF_new_results/\"]\n",
    "nc_folder_list = [\"MF_nc/\"]\n",
    "#cc_folder_list = [\"failure20stages-new-rounding-capacity/\" + e  for e in cc_folder_list]\n",
    "nc_folder_list = [\"ThesisPlotSensitivity/\" + e for e in nc_folder_list]\n",
    "#file_list = [\"no-reconfig120.csv\", \"Link-reconfig120.csv\", \"LimitedReconfig120.csv\", \"Any-reconfig120.csv\"]\n",
    "file_list = [\"LimitedReconfig120.csv\"]\n",
    "#print(cc_folder_list)\n",
    "print(nc_folder_list)"
   ]
  },
  {
   "cell_type": "code",
   "execution_count": 3,
   "metadata": {},
   "outputs": [
    {
     "name": "stdout",
     "output_type": "stream",
     "text": [
      "120\n",
      "['%Stage 10', ' 447', ' 4792', '4', ' 54', '2', ' 20', '470', ' 679', ' 0.16319444444444411', ' 0.434522537919248\\n']\n",
      "['%Stage 10', ' 447', ' 5213', '10', ' 102', '2', ' 18', '470', ' 679', ' 0.16319444444444411', ' 0.4538247268052282\\n']\n",
      "['%Stage 10', ' 447', ' 5406', '14', ' 149', '2', ' 20', '470', ' 679', ' 0.16319444444444411', ' 0.4225592822046571\\n']\n",
      "['%Stage 10', ' 447', ' 5548', '20', ' 165', '1', ' 15', '470', ' 679', ' 0.16319444444444411', ' 0.44761088493679024\\n']\n",
      "['%Stage 10', ' 447', ' 5623', '25', ' 180', '2', ' 17', '470', ' 679', ' 0.16319444444444411', ' 0.44461077844311375\\n']\n",
      "[[4792 5213 5406 5548 5623]\n",
      " [   0    0    0    0    0]\n",
      " [   0    0    0    0    0]]\n"
     ]
    }
   ],
   "source": [
    "nc_objective_data = np.full((3, 5), 0)\n",
    "max_stage = 20\n",
    "selected_stage = 10\n",
    "for i in range(1):\n",
    "    for j in range(1):\n",
    "        with open(nc_folder_list[i]+file_list[j], \"r\") as f:\n",
    "            if j == -1:\n",
    "                f1 = f.readlines()\n",
    "                start_line = 0\n",
    "                for line in f1:\n",
    "                    if line.find(\"%Stage\") >= 0:\n",
    "                        break\n",
    "                    else:\n",
    "                        start_line = start_line + 1\n",
    "                #print(start_line)\n",
    "                #print(len(f1))\n",
    "                line = f1[selected_stage+start_line]\n",
    "                line = line.split(\",\")\n",
    "                if j == 0:\n",
    "                    nc_objective_data[0, i] = float(line[2])\n",
    "                if j == 1:\n",
    "                    nc_objective_data[1, i] = float(line[2])\n",
    "                if j == 3:\n",
    "                    nc_objective_data[4, i] = float(line[2])\n",
    "            else:\n",
    "                num_ite = 5\n",
    "                f1 = f.readlines()\n",
    "                start_line = 0\n",
    "                line_length = len(f1)\n",
    "                print(line_length)\n",
    "                start_line = 0\n",
    "                for ite in range(num_ite):\n",
    "                    for index in range(start_line, line_length):\n",
    "                        if f1[index].find(\"%Stage\") >= 0:\n",
    "                            start_line = index\n",
    "                            break\n",
    "                    line = f1[start_line+selected_stage].split(',')\n",
    "                    start_line = start_line + max_stage+1\n",
    "                    print(line)\n",
    "                    nc_objective_data[i,ite] = line[2]\n",
    "#                 start_line = 0\n",
    "#                 start_line1 = 0\n",
    "#                 for line in f1:\n",
    "#                     if line.find(\"%Stage\") >= 0:\n",
    "#                         break\n",
    "#                     else:\n",
    "#                         start_line = start_line + 1\n",
    "#                 for index in range(start_line+max_stage+1, len(f1)):\n",
    "#                     if f1[index].find(\"%Stage\") >= 0:\n",
    "#                         start_line1 = index\n",
    "#                         break\n",
    "#                     else:\n",
    "#                         start_line1 = start_line1 + 1\n",
    "\n",
    "#                 line = f1[selected_stage+start_line]\n",
    "#                 line = line.split(\",\")\n",
    "#                 nc_objective_data[2, i] = float(line[2])\n",
    "#                 #mesh3data[2, index] = int(line[1])\n",
    "\n",
    "#                 line = f1[selected_stage+start_line1]\n",
    "#                 line = line.split(\",\")\n",
    "#                 nc_objective_data[3, i] = float(line[2])\n",
    "#                 print(start_line, start_line1)\n",
    "print(nc_objective_data)"
   ]
  },
  {
   "cell_type": "code",
   "execution_count": 6,
   "metadata": {},
   "outputs": [
    {
     "name": "stdout",
     "output_type": "stream",
     "text": [
      "120\n",
      "['%Stage 1', ' 398', ' 655', '5', ' 10', '2', ' 4', '357', ' 397', ' 0.17499999999999968', ' 0.2912513842746401\\n']\n",
      "['%Stage 1', ' 544', ' 891', '10', ' 20', '1', ' 3', '388', ' 460', ' 0.1901960784313722', ' 0.3496677740863787\\n']\n",
      "['%Stage 1', ' 657', ' 1017', '15', ' 30', '2', ' 4', '415', ' 527', ' 0.20343137254901922', ' 0.4127906976744186\\n']\n",
      "['%Stage 1', ' 759', ' 1129', '20', ' 40', '2', ' 4', '440', ' 571', ' 0.21568627450980346', ' 0.41915836101882614\\n']\n",
      "['%Stage 1', ' 828', ' 1202', '25', ' 50', '2', ' 4', '470', ' 604', ' 0.23039215686274464', ' 0.4321705426356589\\n']\n",
      "[[ 655  891 1017 1129 1202]\n",
      " [   0    0    0    0    0]\n",
      " [   0    0    0    0    0]]\n"
     ]
    }
   ],
   "source": [
    "nc_initial_data = np.full((3, 5), 0)\n",
    "max_stage = 20\n",
    "selected_stage = 1\n",
    "for i in range(1):\n",
    "    for j in range(1):\n",
    "        with open(nc_folder_list[i]+file_list[j], \"r\") as f:\n",
    "            if j == -1:\n",
    "                f1 = f.readlines()\n",
    "                start_line = 0\n",
    "                for line in f1:\n",
    "                    if line.find(\"%Stage\") >= 0:\n",
    "                        break\n",
    "                    else:\n",
    "                        start_line = start_line + 1\n",
    "                #print(start_line)\n",
    "                #print(len(f1))\n",
    "                line = f1[selected_stage+start_line]\n",
    "                line = line.split(\",\")\n",
    "                if j == 0:\n",
    "                    nc_objective_data[0, i] = float(line[2])\n",
    "                if j == 1:\n",
    "                    nc_objective_data[1, i] = float(line[2])\n",
    "                if j == 3:\n",
    "                    nc_objective_data[4, i] = float(line[2])\n",
    "            else:\n",
    "                num_ite = 5\n",
    "                f1 = f.readlines()\n",
    "                start_line = 0\n",
    "                line_length = len(f1)\n",
    "                print(line_length)\n",
    "                start_line = 0\n",
    "                for ite in range(num_ite):\n",
    "                    for index in range(start_line, line_length):\n",
    "                        if f1[index].find(\"%Stage\") >= 0:\n",
    "                            start_line = index\n",
    "                            break\n",
    "                    line = f1[start_line+selected_stage].split(',')\n",
    "                    start_line = start_line + max_stage+1\n",
    "                    print(line)\n",
    "                    nc_initial_data[i,ite] = line[2]\n",
    "                    pass\n",
    "#                 start_line = 0\n",
    "#                 start_line1 = 0\n",
    "#                 for line in f1:\n",
    "#                     if line.find(\"%Stage\") >= 0:\n",
    "#                         break\n",
    "#                     else:\n",
    "#                         start_line = start_line + 1\n",
    "#                 for index in range(start_line+max_stage+1, len(f1)):\n",
    "#                     if f1[index].find(\"%Stage\") >= 0:\n",
    "#                         start_line1 = index\n",
    "#                         break\n",
    "#                     else:\n",
    "#                         start_line1 = start_line1 + 1\n",
    "\n",
    "#                 line = f1[selected_stage+start_line]\n",
    "#                 line = line.split(\",\")\n",
    "#                 nc_objective_data[2, i] = float(line[2])\n",
    "#                 #mesh3data[2, index] = int(line[1])\n",
    "\n",
    "#                 line = f1[selected_stage+start_line1]\n",
    "#                 line = line.split(\",\")\n",
    "#                 nc_objective_data[3, i] = float(line[2])\n",
    "#                 print(start_line, start_line1)\n",
    "print(nc_initial_data)"
   ]
  },
  {
   "cell_type": "code",
   "execution_count": 18,
   "metadata": {},
   "outputs": [
    {
     "data": {
      "text/plain": [
       "5213"
      ]
     },
     "execution_count": 18,
     "metadata": {},
     "output_type": "execute_result"
    }
   ],
   "source": [
    "nc_objective_data[0][1]"
   ]
  },
  {
   "cell_type": "code",
   "execution_count": 23,
   "metadata": {},
   "outputs": [
    {
     "name": "stderr",
     "output_type": "stream",
     "text": [
      "D:\\my_application\\Miniconda\\envs\\py37\\lib\\site-packages\\ipykernel_launcher.py:30: UserWarning: FixedFormatter should only be used together with FixedLocator\n",
      "D:\\my_application\\Miniconda\\envs\\py37\\lib\\site-packages\\ipykernel_launcher.py:46: UserWarning: FixedFormatter should only be used together with FixedLocator\n"
     ]
    },
    {
     "data": {
      "image/png": "[encoded data removed]",
      "text/plain": [
       "<Figure size 251.064x96.5631 with 2 Axes>"
      ]
     },
     "metadata": {
      "needs_background": "light"
     },
     "output_type": "display_data"
    }
   ],
   "source": [
    "import numpy as np\n",
    "x_name = np.arange(5,30,5)\n",
    "stage_small = np.arange(0, 5)\n",
    "N = 3\n",
    "ind = np.arange(N) \n",
    "width = 1 / 6\n",
    "\n",
    "x = [0, '20', '30', '40']\n",
    "x_tick_label_list = ['20', '30', '40']\n",
    "\n",
    "fig, (ax1, ax2) = plt.subplots(1, 2)\n",
    "ax1.grid(lw = 0.25)\n",
    "ax2.grid(lw = 0.25)\n",
    "#ax1.bar(x, objective)\n",
    "#ax1.bar(x, objective[0])\n",
    "#label_list = ['No-rec', 'Link-rec', 'Lim-rec(5, 0)', 'Lim-rec(5, 2)', 'Any-rec']\n",
    "label_list = ['20\\%', '30\\%', '40\\%']\n",
    "patterns = ('//////','\\\\\\\\\\\\','---',  'ooo', 'xxx', '\\\\', '\\\\\\\\','++', '*', 'O', '.')\n",
    "\n",
    "plt.rcParams['hatch.linewidth'] = 0.25  # previous pdf hatch linewidth\n",
    "#plt.rcParams['hatch.linewidth'] = 1.0  # previous svg hatch linewidth\n",
    "#plt.rcParams['hatch.color'] = 'r'\n",
    "\n",
    "for i in range(3):\n",
    "    ax1.plot(x_name, nc_objective_data[i][stage_small], linewidth=0.5,\n",
    "                 marker=marker_list[i], markersize=3, markeredgewidth=0.5,\n",
    "                 label=label_list[i])\n",
    "\n",
    "\n",
    "ax1.set_xticklabels(x)\n",
    "ax1.set_ylabel('AWRSL')\n",
    "ax1.set_xlabel('Reconfiguration of normal nodes')\n",
    "#ax1.set_ylabel('Objective value')\n",
    "#ax1.set_xlabel('Recovery Scenarios')\n",
    "ax1.xaxis.set_label_coords(0.5,-0.17)\n",
    "ax1.yaxis.set_label_coords(-0.17,0.5)\n",
    "\n",
    "#ax1.legend(loc='upper center', bbox_to_anchor=(0.5, 1.05),\n",
    "#          ncol=3, fancybox=True, shadow=True, fontsize='small')\n",
    "\n",
    "for i in range(3):\n",
    "    ax2.plot(x_name, nc_initial_data[i][stage_small], linewidth=0.5,\n",
    "                 marker=marker_list[i], markersize=3, markeredgewidth=0.5,\n",
    "                 label=label_list[i])\n",
    "\n",
    "ax2.set_xticklabels(x)\n",
    "ax2.set_ylabel('AWRSL at stage 0')\n",
    "ax2.set_xlabel('Reconfiguration of normal nodes')\n",
    "ax2.xaxis.set_label_coords(0.5,-0.17)\n",
    "ax2.yaxis.set_label_coords(-0.17,0.5)\n",
    "\n",
    "ax1.legend(loc='upper center', bbox_to_anchor=(1.16, 1.26),\n",
    "          ncol=5, prop={'size': 5}, handletextpad=0.2)\n",
    "\n",
    "fig.set_size_inches(fig_width, fig_height)\n",
    "mpl.pyplot.subplots_adjust(wspace = 0.3)\n",
    "\n",
    "#ax1.grid(color='b', ls = '-.', lw = 0.25)\n",
    "\n",
    "ax1.set_title('(a)', y=-0.45, fontsize=7)\n",
    "ax2.set_title('(b)', y=-0.45, fontsize=7)\n",
    "\n",
    "fig.subplots_adjust(left=.10, bottom=.235, right=.97, top=.85)\n",
    "\n",
    "plt.show()\n",
    "#fig.savefig('test-heuristic-failure-nc-initial.pdf')"
   ]
  }
 ],
 "metadata": {
  "kernelspec": {
   "display_name": "Python 3",
   "language": "python",
   "name": "python3"
  },
  "language_info": {
   "codemirror_mode": {
    "name": "ipython",
    "version": 3
   },
   "file_extension": ".py",
   "mimetype": "text/x-python",
   "name": "python",
   "nbconvert_exporter": "python",
   "pygments_lexer": "ipython3",
   "version": "3.7.8"
  }
 },
 "nbformat": 4,
 "nbformat_minor": 4
}
