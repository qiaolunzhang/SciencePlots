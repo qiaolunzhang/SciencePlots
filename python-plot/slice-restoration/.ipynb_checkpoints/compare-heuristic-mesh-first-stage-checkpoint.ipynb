{
 "cells": [
  {
   "cell_type": "code",
   "execution_count": 4,
   "metadata": {},
   "outputs": [],
   "source": [
    "import numpy as np\n",
    "import matplotlib as mpl\n",
    "#mpl.use('pdf')\n",
    "import matplotlib.pyplot as plt\n",
    "import numpy as np\n",
    "\n",
    "plt.rc('font', family='serif', serif='Times')\n",
    "plt.rc('text', usetex=True)\n",
    "plt.rc('xtick', labelsize=6)\n",
    "plt.rc('ytick', labelsize=6)\n",
    "plt.rc('axes', labelsize=6)\n",
    "#axes.linewidth : 0.5\n",
    "plt.rc('axes', linewidth=0.5)\n",
    "#ytick.major.width : 0.5\n",
    "plt.rc('ytick.major', width=0.5)\n",
    "plt.rcParams['xtick.direction'] = 'in'\n",
    "plt.rcParams['ytick.direction'] = 'in'\n",
    "plt.rc('ytick.minor', visible=True)\n",
    "\n",
    "#plt.style.use(r\"..\\..\\styles\\infocom.mplstyle\") # Insert your save location here\n",
    "\n",
    "# width as measured in inkscape\n",
    "fig_width = 3.487\n",
    "#height = width / 1.618 / 2\n",
    "fig_height = fig_width / 1.3 / 2"
   ]
  },
  {
   "cell_type": "code",
   "execution_count": 5,
   "metadata": {},
   "outputs": [
    {
     "data": {
      "text/plain": [
       "'3.2.2'"
      ]
     },
     "execution_count": 5,
     "metadata": {},
     "output_type": "execute_result"
    }
   ],
   "source": [
    "import matplotlib\n",
    "matplotlib.__version__"
   ]
  },
  {
   "cell_type": "code",
   "execution_count": 6,
   "metadata": {},
   "outputs": [
    {
     "name": "stdout",
     "output_type": "stream",
     "text": [
      "0\n"
     ]
    }
   ],
   "source": [
    "word = 'geeks for geeks'\n",
    "  \n",
    "# returns first occurrence of Substring \n",
    "result = word.find('geeks')\n",
    "print(result)"
   ]
  },
  {
   "cell_type": "code",
   "execution_count": 9,
   "metadata": {},
   "outputs": [
    {
     "name": "stdout",
     "output_type": "stream",
     "text": [
      "['mesh-big-failure/mesh2-backup-big-failure-new/', 'mesh-big-failure/mesh3-backup-big-failure-new/', 'mesh-big-failure/mesh4-backup-big-failure-new/']\n",
      "['failure20stages-new-rounding-capacity/SF_new_results/', 'failure20stages-new-rounding-capacity/capacity_results/', 'failure20stages-new-rounding-capacity/BF_new_results/']\n",
      "['failure20stages-new-rounding-capacity/SF_new_results_NC/', 'failure20stages-new-rounding-capacity/capacity_resultsNC/', 'failure20stages-new-rounding-capacity/BF_new_results_NC/']\n"
     ]
    }
   ],
   "source": [
    "mesh_folder_list = [\"mesh2-backup-big-failure-new/\", \"mesh3-backup-big-failure-new/\", \"mesh4-backup-big-failure-new/\"]\n",
    "cc_folder_list = [\"SF_new_results/\", \"capacity_results/\", \"BF_new_results/\"]\n",
    "nc_folder_list = [\"SF_new_results_NC/\", \"capacity_resultsNC/\", \"BF_new_results_NC/\"]\n",
    "mesh_folder_list = [\"mesh-big-failure/\" + e for e in mesh_folder_list]\n",
    "cc_folder_list = [\"failure20stages-new-rounding-capacity/\" + e  for e in cc_folder_list]\n",
    "nc_folder_list = [\"failure20stages-new-rounding-capacity/\" + e for e in nc_folder_list]\n",
    "file_list = [\"no-reconfig120.csv\", \"Link-reconfig120.csv\", \"LimitedReconfig120.csv\", \"Any-reconfig120.csv\"]\n",
    "print(mesh_folder_list)\n",
    "print(cc_folder_list)\n",
    "print(nc_folder_list)"
   ]
  },
  {
   "cell_type": "code",
   "execution_count": 8,
   "metadata": {},
   "outputs": [
    {
     "name": "stdout",
     "output_type": "stream",
     "text": [
      "[[3612 2447 1370]\n",
      " [4293 3338 2362]\n",
      " [4959 4581 3599]\n",
      " [4959 4581 3599]\n",
      " [5850 5796 4467]]\n"
     ]
    }
   ],
   "source": [
    "mesh_objective_data = np.full((5, 3), 0)\n",
    "max_stage = 20\n",
    "selected_stage = 10\n",
    "for i in range(3):\n",
    "    for j in range(4):\n",
    "        with open(nc_folder_list[i]+file_list[j], \"r\") as f:\n",
    "            if j != 2:\n",
    "                f1 = f.readlines()\n",
    "                start_line = 0\n",
    "                for line in f1:\n",
    "                    if line.find(\"%Stage\") >= 0:\n",
    "                        break\n",
    "                    else:\n",
    "                        start_line = start_line + 1\n",
    "                #print(start_line)\n",
    "                #print(len(f1))\n",
    "                line = f1[selected_stage+start_line]\n",
    "                line = line.split(\",\")\n",
    "                if j == 0:\n",
    "                    mesh_objective_data[0, i] = float(line[2])\n",
    "                if j == 1:\n",
    "                    mesh_objective_data[1, i] = float(line[2])\n",
    "                if j == 3:\n",
    "                    mesh_objective_data[4, i] = float(line[2])\n",
    "            else:\n",
    "                f1 = f.readlines()\n",
    "                start_line = 0\n",
    "                start_line1 = 0\n",
    "                for line in f1:\n",
    "                    if line.find(\"%Stage\") >= 0:\n",
    "                        break\n",
    "                    else:\n",
    "                        start_line = start_line + 1\n",
    "                for index in range(start_line+max_stage+1, len(f1)):\n",
    "                    if f1[index].find(\"%Stage\") >= 0:\n",
    "                        break\n",
    "                    else:\n",
    "                        start_line1 = start_line1 + 1\n",
    "\n",
    "                line = f1[selected_stage+start_line]\n",
    "                line = line.split(\",\")\n",
    "                mesh_objective_data[2, i] = float(line[2])\n",
    "                #mesh3data[2, index] = int(line[1])\n",
    "\n",
    "                line = f1[selected_stage+start_line1]\n",
    "                line = line.split(\",\")\n",
    "                mesh_objective_data[3, i] = float(line[2])\n",
    "print(mesh_objective_data)"
   ]
  },
  {
   "cell_type": "code",
   "execution_count": 6,
   "metadata": {},
   "outputs": [
    {
     "name": "stdout",
     "output_type": "stream",
     "text": [
      "[[ 40.  60.  40.  40. 110. 140. 190. 190. 190. 190. 200.]\n",
      " [ 40.  30.  60.  60.  60.  60.  60. 200. 200. 200. 200.]\n",
      " [160. 270. 280. 320. 200. 200. 200. 200. 200. 200. 200.]\n",
      " [160. 270. 260. 380. 200. 200. 200. 200. 200. 200. 200.]\n",
      " [680. 600. 400. 400. 200. 200. 200. 200. 200. 200. 200.]]\n",
      "[1390. 1170. 2430. 2470. 3480.]\n"
     ]
    }
   ],
   "source": [
    "mesh4data = np.zeros((5, 11))\n",
    "with open(\"mesh/mesh4_capacity_results/no-reconfig120.csv\", \"r\") as f:\n",
    "    f1 = f.readlines()\n",
    "    start_line = 0\n",
    "    for line in f1:\n",
    "        if line.find(\"%Stage\") >= 0:\n",
    "            break\n",
    "        else:\n",
    "            start_line = start_line + 1\n",
    "    for index in range(0, 11):\n",
    "        line = f1[index+start_line]\n",
    "        line = line.split(\",\")\n",
    "        mesh4data[0, index] = int(line[1])\n",
    "\n",
    "with open(\"mesh/mesh4_capacity_results/Link-reconfig120.csv\", \"r\") as f:\n",
    "    f1 = f.readlines()\n",
    "    start_line = 0\n",
    "    for line in f1:\n",
    "        if line.find(\"%Stage\") >= 0:\n",
    "            break\n",
    "        else:\n",
    "            start_line = start_line + 1\n",
    "    for index in range(0, 11):\n",
    "        line = f1[index+start_line]\n",
    "        line = line.split(\",\")\n",
    "        mesh4data[1, index] = int(line[1])\n",
    "\n",
    "with open(\"mesh/mesh4_capacity_results/LimitedReconfig120.csv\", \"r\") as f:\n",
    "    f1 = f.readlines()\n",
    "    start_line = 0\n",
    "    start_line1 = 0\n",
    "    for line in f1:\n",
    "        if line.find(\"%Stage\") >= 0:\n",
    "            break\n",
    "        else:\n",
    "            start_line = start_line + 1\n",
    "    start_line1 = start_line + 11\n",
    "    for index in range(start_line+11, len(f1)):\n",
    "        if f1[index].find(\"%Stage\") >= 0:\n",
    "            break\n",
    "        else:\n",
    "            start_line1 = start_line1 + 1\n",
    "        \n",
    "    for index in range(0, 11):\n",
    "        line = f1[index+start_line]\n",
    "        line = line.split(\",\")\n",
    "        mesh4data[2, index] = int(line[1])\n",
    "        \n",
    "    for index in range(0, 11):\n",
    "        line = f1[index+start_line1]\n",
    "        line = line.split(\",\")\n",
    "        mesh4data[3, index] = int(line[1])\n",
    "\n",
    "with open(\"mesh/mesh4_capacity_results/Any-reconfig120.csv\", \"r\") as f:\n",
    "    f1 = f.readlines()\n",
    "    start_line = 0\n",
    "    for line in f1:\n",
    "        if line.find(\"%Stage\") >= 0:\n",
    "            break\n",
    "        else:\n",
    "            start_line = start_line + 1\n",
    "    for index in range(0, 11):\n",
    "        line = f1[index+start_line]\n",
    "        line = line.split(\",\")\n",
    "        mesh4data[4, index] = int(line[1])        \n",
    "print(mesh4data)\n",
    "print(np.sum(mesh4data, axis=1))"
   ]
  },
  {
   "cell_type": "code",
   "execution_count": 7,
   "metadata": {},
   "outputs": [
    {
     "name": "stdout",
     "output_type": "stream",
     "text": [
      "[[ 900. 1010. 1390.]\n",
      " [1040.  960. 1170.]\n",
      " [1610. 2150. 2430.]\n",
      " [1830. 2180. 2470.]\n",
      " [2040. 3600. 3480.]]\n"
     ]
    }
   ],
   "source": [
    "objective = np.zeros((5, 3))\n",
    "mesh2data = np.sum(mesh2data, axis=1)\n",
    "mesh3data = np.sum(mesh3data, axis=1)\n",
    "mesh4data = np.sum(mesh4data, axis=1)\n",
    "for i in range(5):\n",
    "    objective[i, 0] = mesh2data[i]\n",
    "    objective[i, 1] = mesh3data[i]\n",
    "    objective[i, 2] = mesh4data[i]\n",
    "print(objective)"
   ]
  },
  {
   "cell_type": "code",
   "execution_count": 8,
   "metadata": {},
   "outputs": [],
   "source": [
    "#x = [0, '60', '70', '80']\n",
    "x_tick_label_list = ['2-link connected', '3-link connected', '4-link connected']\n",
    "\n",
    "#objective = [[455, 521, 566, 566, 630], # CC-ILP\n",
    "#             [436, 491, 562, 562, 623],# proposed\n",
    "#             [346, 465, 502, 502, 530]] # NC\n",
    "\n",
    "\n",
    "time_means = [[0.36, 0.17, 0.33],\n",
    "              [5.28, 1.81, 40.84],\n",
    "              [2613.23, 8.17, 45313.95],\n",
    "              [2628.48, 18.8, 181778.9],\n",
    "              [43.23, 7.00, 33.4]];\n",
    "             \n",
    "error = [[0, 0, 0.0564, 20, 0],\n",
    "         [0, 0, 0, 0, 0],\n",
    "         [0, 0, 0.0494, 24, 0]]"
   ]
  },
  {
   "cell_type": "code",
   "execution_count": 10,
   "metadata": {},
   "outputs": [
    {
     "name": "stderr",
     "output_type": "stream",
     "text": [
      "findfont: Font family ['serif'] not found. Falling back to DejaVu Sans.\n"
     ]
    },
    {
     "data": {
      "image/png": "[encoded data removed]",
      "text/plain": [
       "<Figure size 251.064x155.169 with 1 Axes>"
      ]
     },
     "metadata": {
      "needs_background": "light"
     },
     "output_type": "display_data"
    }
   ],
   "source": [
    "N = 3\n",
    "ind = np.arange(N) \n",
    "width = 1 / 6\n",
    "\n",
    "fig, (ax1) = plt.subplots(1, 1)\n",
    "#ax1.bar(x, objective)\n",
    "#ax1.bar(x, objective[0])\n",
    "label_list = ['No-rec', 'Link-rec', 'Lim-rec(3, 0)', 'Lim-rec(3, 1)', 'Any-rec']\n",
    "patterns = ('//////','\\\\\\\\\\\\','---',  'ooo', 'xxx', '\\\\', '\\\\\\\\','++', '*', 'O', '.')\n",
    "\n",
    "plt.rcParams['hatch.linewidth'] = 0.25  # previous pdf hatch linewidth\n",
    "#plt.rcParams['hatch.linewidth'] = 1.0  # previous svg hatch linewidth\n",
    "#plt.rcParams['hatch.color'] = 'r'\n",
    "\n",
    "for i in range(5):\n",
    "    if i == 2:\n",
    "        ax1.bar(ind + width * (i-2), objective[i], width, label=label_list[i],\n",
    "               hatch=patterns[i], alpha=0.7,\n",
    "               tick_label=x_tick_label_list)\n",
    "               #yerr=error[i], ecolor='black', capsize=1)\n",
    "    else:\n",
    "        ax1.bar(ind + width * (i-2), objective[i], width, label=label_list[i],\n",
    "                hatch=patterns[i], alpha=0.7)\n",
    "\n",
    "#ax1.set_xticklabels(x)\n",
    "ax1.set_ylabel('Accumulated weighted working slice resources')\n",
    "ax1.set_xlabel('Percentage of working links and nodes in substrate network (\\%)')\n",
    "ax1.set_ylim(0, 4000)\n",
    "\n",
    "#ax1.xaxis.set_label_coords(0.5,-0.17)\n",
    "#ax1.yaxis.set_label_coords(-0.17,0.5)\n",
    "\n",
    "\n",
    "\n",
    "ax1.legend(loc='upper left',# bbox_to_anchor=(0.5, 1.2),\n",
    "          ncol=2, prop={'size': 5})\n",
    "#ax1.legend(loc='best')\n",
    "fig.set_size_inches(fig_width, fig_height)\n",
    "#mpl.pyplot.subplots_adjust(wspace = 0.3)\n",
    "\n",
    "fig.subplots_adjust(left=.13, bottom=.13, right=.97, top=.95)\n",
    "#ax1.grid(color='b', ls = '-.', lw = 0.25)\n",
    "ax1.grid(lw = 0.25)\n",
    "\n",
    "\n",
    "plt.show()\n",
    "fig.savefig('test-heuristic-mesh.pdf')"
   ]
  }
 ],
 "metadata": {
  "kernelspec": {
   "display_name": "Python 3",
   "language": "python",
   "name": "python3"
  },
  "language_info": {
   "codemirror_mode": {
    "name": "ipython",
    "version": 3
   },
   "file_extension": ".py",
   "mimetype": "text/x-python",
   "name": "python",
   "nbconvert_exporter": "python",
   "pygments_lexer": "ipython3",
   "version": "3.7.6"
  }
 },
 "nbformat": 4,
 "nbformat_minor": 4
}
