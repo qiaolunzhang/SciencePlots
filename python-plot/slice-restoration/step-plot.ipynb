{
 "cells": [
  {
   "cell_type": "code",
   "execution_count": 39,
   "metadata": {},
   "outputs": [],
   "source": [
    "import numpy as np\n",
    "import matplotlib as mpl\n",
    "#mpl.use('pdf')\n",
    "import matplotlib.pyplot as plt\n",
    "import numpy as np\n",
    "from matplotlib.ticker import MaxNLocator\n",
    "\n",
    "plt.rc('font', family='serif', serif='Times')\n",
    "plt.rc('text', usetex=True)\n",
    "plt.rc('xtick', labelsize=6)\n",
    "plt.rc('ytick', labelsize=6)\n",
    "plt.rc('axes', labelsize=6)\n",
    "#axes.linewidth : 0.5\n",
    "plt.rc('axes', linewidth=0.5)\n",
    "#ytick.major.width : 0.5\n",
    "plt.rc('ytick.major', width=0.5)\n",
    "plt.rcParams['xtick.direction'] = 'in'\n",
    "plt.rcParams['ytick.direction'] = 'in'\n",
    "plt.rc('ytick.minor', visible=True)\n",
    "\n",
    "#plt.style.use(r\"..\\..\\styles\\infocom.mplstyle\") # Insert your save location here\n",
    "\n",
    "# width as measured in inkscape\n",
    "fig_width = 1.555 * 2\n",
    "fig_height = 1.256\n",
    "#fig_height = fig_width / 1.3 / 2"
   ]
  },
  {
   "cell_type": "code",
   "execution_count": 42,
   "metadata": {},
   "outputs": [
    {
     "data": {
      "image/png": "[encoded data removed]",
      "text/plain": [
       "<Figure size 223.92x90.432 with 2 Axes>"
      ]
     },
     "metadata": {
      "needs_background": "light"
     },
     "output_type": "display_data"
    }
   ],
   "source": [
    "x = np.arange(6)\n",
    "y1 = [0, 1, 2, 3, 3, 3]\n",
    "y2 = [0, 0, 1, 3, 3, 3]\n",
    "fig, ax = plt.subplots(1, 2)\n",
    "ax[0].step(x, y1, color='r')\n",
    "ax[1].step(x, y2, color='r')\n",
    "fig.set_size_inches(fig_width, fig_height)\n",
    "ax[0].xaxis.set_major_locator(MaxNLocator(integer=True))\n",
    "ax[1].xaxis.set_major_locator(MaxNLocator(integer=True))\n",
    "ax[0].yaxis.set_major_locator(MaxNLocator(integer=True))\n",
    "ax[1].yaxis.set_major_locator(MaxNLocator(integer=True))\n",
    "ax[0].yaxis.set_minor_locator(MaxNLocator(integer=True))\n",
    "ax[1].yaxis.set_minor_locator(MaxNLocator(integer=True))\n",
    "ax[0].set_ylabel('Number of slices with CC')\n",
    "ax[1].set_ylabel('Number of slices with CC')\n",
    "ax[0].set_xlabel('Days')\n",
    "ax[1].set_xlabel('Days')\n",
    "ax[0].set_title('(b)', y=-0.55, fontsize=7)\n",
    "ax[1].set_title('(c)', y=-0.55, fontsize=7)\n",
    "\n",
    "mpl.pyplot.subplots_adjust(wspace = 0.3)\n",
    "\n",
    "fig.subplots_adjust(left=.10, bottom=.20, right=.97, top=.95)\n",
    "fig.savefig('step_case.pdf')"
   ]
  },
  {
   "cell_type": "code",
   "execution_count": 32,
   "metadata": {},
   "outputs": [],
   "source": [
    "import numpy as np\n",
    "import matplotlib as mpl\n",
    "#mpl.use('pdf')\n",
    "import matplotlib.pyplot as plt\n",
    "import numpy as np\n",
    "from matplotlib.ticker import MaxNLocator\n",
    "\n",
    "plt.rc('font', family='serif', serif='Times')\n",
    "plt.rc('text', usetex=True)\n",
    "plt.rc('xtick', labelsize=6)\n",
    "plt.rc('ytick', labelsize=6)\n",
    "plt.rc('axes', labelsize=6)\n",
    "#axes.linewidth : 0.5\n",
    "plt.rc('axes', linewidth=0.5)\n",
    "#ytick.major.width : 0.5\n",
    "plt.rc('ytick.major', width=0.5)\n",
    "plt.rcParams['xtick.direction'] = 'in'\n",
    "plt.rcParams['ytick.direction'] = 'in'\n",
    "plt.rc('ytick.minor', visible=True)\n",
    "\n",
    "#plt.style.use(r\"..\\..\\styles\\infocom.mplstyle\") # Insert your save location here\n",
    "\n",
    "# width as measured in inkscape\n",
    "fig_width = 1.555 * 2 * 3\n",
    "fig_height = 1.256 * 3\n",
    "#fig_height = fig_width / 1.3 / 2"
   ]
  },
  {
   "cell_type": "code",
   "execution_count": 36,
   "metadata": {},
   "outputs": [
    {
     "data": {
      "image/png": "[encoded data removed]",
      "text/plain": [
       "<Figure size 223.92x90.432 with 2 Axes>"
      ]
     },
     "metadata": {
      "needs_background": "light"
     },
     "output_type": "display_data"
    }
   ],
   "source": [
    "x = np.arange(6)\n",
    "y1 = [0, 1, 2, 3, 3, 3]\n",
    "y2 = [0, 0, 1, 3, 3, 3]\n",
    "fig, ax = plt.subplots(1, 2)\n",
    "ax[0].step(x, y1, color='r')\n",
    "ax[1].step(x, y2, color='r')\n",
    "fig.set_size_inches(fig_width, fig_height)\n",
    "ax[0].xaxis.set_major_locator(MaxNLocator(integer=True))\n",
    "ax[1].xaxis.set_major_locator(MaxNLocator(integer=True))\n",
    "ax[0].yaxis.set_major_locator(MaxNLocator(integer=True))\n",
    "ax[1].yaxis.set_major_locator(MaxNLocator(integer=True))\n",
    "ax[0].yaxis.set_minor_locator(MaxNLocator(integer=True))\n",
    "ax[1].yaxis.set_minor_locator(MaxNLocator(integer=True))\n",
    "ax[0].set_ylabel('Number of slices with CC')\n",
    "ax[1].set_ylabel('Number of slices with CC')\n",
    "ax[0].set_xlabel('Days')\n",
    "ax[1].set_xlabel('Days')\n",
    "\n",
    "#mpl.pyplot.subplots_adjust(wspace = 0.3)\n",
    "\n",
    "#fig.subplots_adjust(left=.10, bottom=.20, right=.97, top=.95)\n",
    "fig.savefig('step_case.svg')"
   ]
  },
  {
   "cell_type": "code",
   "execution_count": null,
   "metadata": {},
   "outputs": [],
   "source": []
  }
 ],
 "metadata": {
  "kernelspec": {
   "display_name": "Python 3",
   "language": "python",
   "name": "python3"
  },
  "language_info": {
   "codemirror_mode": {
    "name": "ipython",
    "version": 3
   },
   "file_extension": ".py",
   "mimetype": "text/x-python",
   "name": "python",
   "nbconvert_exporter": "python",
   "pygments_lexer": "ipython3",
   "version": "3.7.6"
  }
 },
 "nbformat": 4,
 "nbformat_minor": 4
}
